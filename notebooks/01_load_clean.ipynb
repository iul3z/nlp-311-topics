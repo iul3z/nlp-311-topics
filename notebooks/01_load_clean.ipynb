{
 "cells": [
  {
   "cell_type": "code",
   "execution_count": null,
   "id": "6320a184",
   "metadata": {},
   "outputs": [],
   "source": [
    "import pandas as pd\n",
    "\n",
    "# Daten laden\n",
    "df = pd.read_csv(\"../data/nyc_311.csv\", low_memory=False)\n",
    "\n",
    "print(\"Zeilen:\", len(df))\n",
    "print(\"Spalten (erste 10):\", df.columns[:10].tolist())\n",
    "df.head(3)\n"
   ]
  },
  {
   "cell_type": "code",
   "execution_count": null,
   "id": "c61a9df8",
   "metadata": {},
   "outputs": [],
   "source": [
    "# gesuchte Spalte \"Descriptor\" finden ggf. Fallback auf \"Complaint Type\"\n",
    "\n",
    "if \"Descriptor\" in df.columns:\n",
    "    text_series = df[\"Descriptor\"].fillna(\"\").astype(str)\n",
    "else:\n",
    "    text_series = df[\"Complaint Type\"].fillna(\"\").astype(str)\n",
    "\n",
    "# In ein kleines DataFrame packen\n",
    "\n",
    "text_df = pd.DataFrame({\"text\": text_series})\n",
    "\n",
    "print(\"Texteinträge:\", len(text_df))\n",
    "text_df.head(5)\n"
   ]
  },
  {
   "cell_type": "code",
   "execution_count": null,
   "id": "d3141ee8",
   "metadata": {},
   "outputs": [],
   "source": [
    "# Vorbereitungen\n",
    "\n",
    "import re\n",
    "import nltk\n",
    "from nltk.corpus import stopwords\n",
    "\n",
    "nltk.download('stopwords')\n",
    "\n",
    "stop_en = set(stopwords.words(\"english\"))\n",
    "\n",
    "# Funktion\n",
    "\n",
    "def clean_simple(t):\n",
    "    t = t.lower()                          # klein\n",
    "    t = re.sub(r\"http\\S+|www\\.\\S+\", \" \", t)  # urls weg\n",
    "    t = re.sub(r\"[^a-z\\s]\", \" \", t)        # nur buchstaben/leerzeichen\n",
    "    t = \" \".join(w for w in t.split() if w not in stop_en and len(w) > 2)  # stopwörter + sehr kurze wörter raus\n",
    "    return t\n",
    "\n",
    "text_df[\"text_clean\"] = text_df[\"text\"].apply(clean_simple)\n",
    "\n",
    "text_df.head(10)\n"
   ]
  },
  {
   "cell_type": "code",
   "execution_count": null,
   "id": "8f924397",
   "metadata": {},
   "outputs": [],
   "source": [
    "import os\n",
    "\n",
    "# Speichern der Daten\n",
    "\n",
    "output_path = r\"C:\\projct nlp 311\\data\\text_clean.csv\"\n",
    "\n",
    "# sicherstellen, dass der Ordner existiert\n",
    "os.makedirs(os.path.dirname(output_path), exist_ok=True)\n",
    "\n",
    "\n",
    "text_df[[\"text_clean\"]].to_csv(output_path, index=False, encoding=\"utf-8\")\n",
    "\n",
    "print(f\"✅ Datei erfolgreich gespeichert unter: {output_path}\")\n",
    "print(\"Anzahl Zeilen exportiert:\", len(text_df))\n"
   ]
  }
 ],
 "metadata": {
  "kernelspec": {
   "display_name": ".venv",
   "language": "python",
   "name": "python3"
  },
  "language_info": {
   "codemirror_mode": {
    "name": "ipython",
    "version": 3
   },
   "file_extension": ".py",
   "mimetype": "text/x-python",
   "name": "python",
   "nbconvert_exporter": "python",
   "pygments_lexer": "ipython3",
   "version": "3.11.9"
  }
 },
 "nbformat": 4,
 "nbformat_minor": 5
}
